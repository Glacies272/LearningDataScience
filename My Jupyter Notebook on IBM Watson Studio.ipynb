{
    "cells": [
        {
            "cell_type": "markdown",
            "metadata": {
                "collapsed": true
            },
            "source": "# My Jupyter Notebook on IBM Watson Studio"
        },
        {
            "cell_type": "markdown",
            "metadata": {},
            "source": "**Gerard Robert**\nData Scientist"
        },
        {
            "cell_type": "markdown",
            "metadata": {},
            "source": "*I am interested in Data Science as finding patterns in data points and building predictive models is fascinating to me.*"
        },
        {
            "cell_type": "markdown",
            "metadata": {},
            "source": "### The below code will compute a vector of 1:10 squared."
        },
        {
            "cell_type": "code",
            "execution_count": 11,
            "metadata": {},
            "outputs": [
                {
                    "name": "stdout",
                    "output_type": "stream",
                    "text": "[1, 4, 9, 16, 25, 36, 49, 64, 81, 100]\n"
                }
            ],
            "source": "vector=[1,2,3,4,5,6,7,8,9,10]\nsquare = [x**2 for x in vector]\nprint(square)"
        },
        {
            "cell_type": "markdown",
            "metadata": {},
            "source": " 1. Create Vector\n 2. Function on vector\n\n\n + Observe results by printing vector.\n \n [Google is a great resource to learn more](https://www.google.com \"Google's Homepage\")"
        }
    ],
    "metadata": {
        "kernelspec": {
            "display_name": "Python 3.6",
            "language": "python",
            "name": "python3"
        },
        "language_info": {
            "codemirror_mode": {
                "name": "ipython",
                "version": 3
            },
            "file_extension": ".py",
            "mimetype": "text/x-python",
            "name": "python",
            "nbconvert_exporter": "python",
            "pygments_lexer": "ipython3",
            "version": "3.6.9"
        }
    },
    "nbformat": 4,
    "nbformat_minor": 1
}